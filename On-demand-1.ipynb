{
 "cells": [
  {
   "cell_type": "code",
   "execution_count": 1,
   "metadata": {},
   "outputs": [],
   "source": [
    "# Импортируем библиотеки\n",
    "import json\n",
    "import requests\n",
    "from pprint import pprint\n",
    "import pandas as pd"
   ]
  },
  {
   "cell_type": "code",
   "execution_count": 2,
   "metadata": {},
   "outputs": [
    {
     "name": "stdout",
     "output_type": "stream",
     "text": [
      "200\n"
     ]
    }
   ],
   "source": [
    "# задаем токен\n",
    "token = 'AQAAAABcBYlwAAeZHVaHxB8LnEjylNKZLg3Oldg'\n",
    "headers = {'Authorization': 'OAuth ' + token}\n",
    "# задаем параметра запроса\n",
    "params = {'metrics': 'ym:s:visits,ym:s:robotPercentage',\n",
    "          'dimensions': 'ym:s:lastsignTrafficSource',  \n",
    "          'date1': '2020-09-01',  \n",
    "          'date2': '2020-09-30',     \n",
    "          'ids': 30177909,\n",
    "          'accuracy':'full',\n",
    "          'limit':100000}\n",
    "# делаем запрос\n",
    "response = requests.get('https://api-metrika.yandex.net/stat/v1/data', params=params, headers=headers)\n",
    "print (response.status_code)"
   ]
  },
  {
   "cell_type": "markdown",
   "metadata": {},
   "source": [
    "200 — значит, запрос был составлен корректно и API передал ответ"
   ]
  },
  {
   "cell_type": "code",
   "execution_count": 3,
   "metadata": {},
   "outputs": [],
   "source": [
    "# запишем данные в переменную\n",
    "metrika_data = response.json()\n",
    "# преобразуем данные в так называемый плоский вид, то есть избавимся от вложенных словарей\n",
    "def getMetrikaDataInListOfDicts(metrika_data):\n",
    "    list_of_dicts = []\n",
    "    dimensions_list = metrika_data['query']['dimensions']\n",
    "    metrics_list = metrika_data['query']['metrics']\n",
    "    for data_item in metrika_data['data']:\n",
    "        d = {}\n",
    "        for i,dimension in enumerate(data_item['dimensions']):\n",
    "            d[dimensions_list[i]] = dimension['name']\n",
    "        for i,metric in enumerate(data_item['metrics']):\n",
    "            d[metrics_list[i]] = metric\n",
    "        list_of_dicts.append(d)\n",
    "    return list_of_dicts\n",
    "metrika_list_of_dicts = getMetrikaDataInListOfDicts(metrika_data)"
   ]
  },
  {
   "cell_type": "code",
   "execution_count": 4,
   "metadata": {},
   "outputs": [
    {
     "name": "stdout",
     "output_type": "stream",
     "text": [
      "                          Source  Visits  Percentage of bots  Number of bots\n",
      "0          Search engine traffic  3334.0               22.17           739.0\n",
      "1                 Direct traffic   757.0               23.38           177.0\n",
      "2                   Link traffic   126.0               24.60            31.0\n",
      "3         Social network traffic    80.0               13.75            11.0\n",
      "4               Internal traffic    10.0               30.00             3.0\n",
      "5            Cached page traffic     6.0               16.67             1.0\n",
      "6  Recommendation system traffic     2.0                0.00             0.0\n"
     ]
    }
   ],
   "source": [
    "# создаем датафрейм\n",
    "metrika_df = pd.DataFrame(metrika_list_of_dicts)\n",
    "# переименуем столбцы\n",
    "metrika_df.columns=['Source', 'Visits', 'Percentage of bots']\n",
    "# расчет количества ботов\n",
    "metrika_df['Number of bots'] = metrika_df['Visits']*metrika_df['Percentage of bots']/100\n",
    "# округление данных \n",
    "metrika_df['Percentage of bots'] = metrika_df['Percentage of bots'].round(2)\n",
    "metrika_df['Number of bots'] = metrika_df['Number of bots'].round(0)\n",
    "print(metrika_df)"
   ]
  },
  {
   "cell_type": "markdown",
   "metadata": {},
   "source": [
    "Наибольшее количество ботов заходят на сайт из источника Search engine traffic (поисковый трафик) - 739. При этом максимальный процент ботов наблюдает из источника Internal traffic (внутренний трафик) - 30%."
   ]
  },
  {
   "cell_type": "code",
   "execution_count": 5,
   "metadata": {},
   "outputs": [
    {
     "name": "stdout",
     "output_type": "stream",
     "text": [
      "Количество ботов, которые заходили на сайт:  962.0\n",
      "Процент ботов (в общем трафике):  22.29\n"
     ]
    }
   ],
   "source": [
    "# расчет количества ботов и их доли в общем трафике\n",
    "sum_visits = metrika_df['Visits'].sum()\n",
    "sum_bots = metrika_df['Number of bots'].sum()\n",
    "proportion_bots = sum_bots*100/sum_visits\n",
    "proportion_bots = proportion_bots.round(2)\n",
    "print('Количество ботов, которые заходили на сайт: ', sum_bots)\n",
    "print('Процент ботов (в общем трафике): ',proportion_bots)"
   ]
  },
  {
   "cell_type": "code",
   "execution_count": 6,
   "metadata": {},
   "outputs": [
    {
     "name": "stdout",
     "output_type": "stream",
     "text": [
      "200\n"
     ]
    }
   ],
   "source": [
    "# задаем параметра запроса\n",
    "params = {'metrics': 'ym:s:robotPercentage',\n",
    "          'dimensions': 'ym:s:hour',  \n",
    "          'date1': '2020-09-01',  \n",
    "          'date2': '2020-09-30',     \n",
    "          'ids': 30177909,\n",
    "          'accuracy':'full',\n",
    "          'limit':100000}\n",
    "# делаем запрос\n",
    "response = requests.get('https://api-metrika.yandex.net/stat/v1/data', params=params, headers=headers)\n",
    "print (response.status_code)"
   ]
  },
  {
   "cell_type": "markdown",
   "metadata": {},
   "source": [
    "200 — значит, запрос был составлен корректно и API передал ответ"
   ]
  },
  {
   "cell_type": "code",
   "execution_count": 7,
   "metadata": {},
   "outputs": [],
   "source": [
    "# запишем данные в переменную\n",
    "metrika_data = response.json()\n",
    "# преобразуем данные в так называемый плоский вид, то есть избавимся от вложенных словарей\n",
    "def getMetrikaDataInListOfDicts(metrika_data):\n",
    "    list_of_dicts = []\n",
    "    dimensions_list = metrika_data['query']['dimensions']\n",
    "    metrics_list = metrika_data['query']['metrics']\n",
    "    for data_item in metrika_data['data']:\n",
    "        d = {}\n",
    "        for i,dimension in enumerate(data_item['dimensions']):\n",
    "            d[dimensions_list[i]] = dimension['name']\n",
    "        for i,metric in enumerate(data_item['metrics']):\n",
    "            d[metrics_list[i]] = metric\n",
    "        list_of_dicts.append(d)\n",
    "    return list_of_dicts\n",
    "metrika_list_of_dicts = getMetrikaDataInListOfDicts(metrika_data)"
   ]
  },
  {
   "cell_type": "code",
   "execution_count": 8,
   "metadata": {},
   "outputs": [
    {
     "name": "stdout",
     "output_type": "stream",
     "text": [
      "     Hour  Percentage of bots\n",
      "0   13:00               29.30\n",
      "1   17:00               25.19\n",
      "2   09:00               25.12\n",
      "3   11:00               24.82\n",
      "4   12:00               24.75\n",
      "5   14:00               24.67\n",
      "6   16:00               24.19\n",
      "7   15:00               23.91\n",
      "8   19:00               22.97\n",
      "9   08:00               22.64\n",
      "10  10:00               21.25\n",
      "11  22:00               21.05\n",
      "12  18:00               20.71\n",
      "13  23:00               19.11\n",
      "14  21:00               18.45\n",
      "15  04:00               18.18\n",
      "16  20:00               17.73\n",
      "17  01:00               17.57\n",
      "18  00:00               16.52\n",
      "19  03:00               15.79\n",
      "20  06:00               15.09\n",
      "21  07:00               14.12\n",
      "22  02:00               12.50\n",
      "23  05:00                9.52\n"
     ]
    }
   ],
   "source": [
    "# создаем датафрейм\n",
    "metrika_df = pd.DataFrame(metrika_list_of_dicts)\n",
    "# переименуем столбцы\n",
    "metrika_df.columns=['Hour','Percentage of bots']\n",
    "# округление данных по процентам ботов\n",
    "metrika_df['Percentage of bots'] = metrika_df['Percentage of bots'].round(2)\n",
    "print(metrika_df)"
   ]
  },
  {
   "cell_type": "markdown",
   "metadata": {},
   "source": [
    "Наибольший процент ботов заходит на сайт в дневное и утренее время суток. Максимальное значение соответствует 13:00"
   ]
  }
 ],
 "metadata": {
  "interpreter": {
   "hash": "b89b5cfaba6639976dc87ff2fec6d58faec662063367e2c229c520fe71072417"
  },
  "kernelspec": {
   "display_name": "Python 3.10.0 64-bit",
   "language": "python",
   "name": "python3"
  },
  "language_info": {
   "codemirror_mode": {
    "name": "ipython",
    "version": 3
   },
   "file_extension": ".py",
   "mimetype": "text/x-python",
   "name": "python",
   "nbconvert_exporter": "python",
   "pygments_lexer": "ipython3",
   "version": "3.10.0"
  },
  "orig_nbformat": 4
 },
 "nbformat": 4,
 "nbformat_minor": 2
}
